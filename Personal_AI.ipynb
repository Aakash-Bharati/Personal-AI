{
  "cells": [
    {
      "cell_type": "code",
      "execution_count": null,
      "metadata": {
        "id": "dMPXx5hfNN1V"
      },
      "outputs": [],
      "source": [
        "# This Persinal AI utilises Google's Generative AI models. It interacts with the user by generating responces to user input until the user chooses to exit.\n",
        "!pip install -q -U google_generativeai"
      ]
    },
    {
      "cell_type": "markdown",
      "metadata": {
        "id": "QimH8WLKQGKf"
      },
      "source": [
        "<!-- Welcome to our chatbot, created using the Gemini framework!Our chatbot is here to assist you with quick answers, personalized help, and friendly conversations. Powered by advanced technology, it understands your questions and provides accurate responses instantly.Key Features:Instant Replies: Get answers right away.Personalized Service: Tailored interactions just for you.24/7 Availability: Here to help anytime you need. -->"
      ]
    },
    {
      "cell_type": "code",
      "execution_count": null,
      "metadata": {
        "id": "8sbN9kwgN1zX"
      },
      "outputs": [],
      "source": [
        "# Importing necessary libraries\n",
        "import textwrap   #dealing with input text\n",
        "from IPython.display import display, Markdown     #Formatting the response\n",
        "import os     #Operating the API key\n",
        "import google.generativeai as genai     #Google's own library\n",
        "from google.colab import userdata     #feeding API key to the Gemini Model"
      ]
    },
    {
      "cell_type": "code",
      "execution_count": null,
      "metadata": {
        "id": "WRImLL7pO0LB"
      },
      "outputs": [],
      "source": [
        "def to_markdown(parts):\n",
        "  formatted_parts = []\n",
        "  for part in parts:\n",
        "    text = part.text.replace('-','*')   #Replace the hyphens with asterisks in the text of each part\n",
        "    formatted_parts.append(text)\n",
        "\n",
        "  return Markdown(textwrap.indent('\\n'.join(formatted_parts), '>', predicate = lambda _: True))\n",
        "  # Join the formatted parts with newlines and indent them with '>'"
      ]
    },
    {
      "cell_type": "code",
      "execution_count": null,
      "metadata": {
        "id": "mx_E1gkkQahe"
      },
      "outputs": [],
      "source": [
        "from ast import Try\n",
        "def create_chatbot():\n",
        "  os.environ['gemini'] = 'YOUR GEMINI API'    #Environment Variable and replace 'YOUR GEMINI API' with your acttual API key.\n",
        "  # Retrive the Gemini API key from the user data\n",
        "  GOOGLE_API_KEY = userdata.get('gemini')\n",
        "  # Configure the Google generative AI library with the API key\n",
        "  genai.configure(api_key = GOOGLE_API_KEY)\n",
        "\n",
        "  for m in genai.list_models():\n",
        "    if 'generateContent' in m.supported_generation_methods:\n",
        "      print(m.name)         # List and print the names of models that support content generation\n",
        "\n",
        "  # Initailize the generative model using 'gemini-pro' model\n",
        "  model = genai.GenerativeModel('gemini-pro')\n",
        "\n",
        "  print(\"Welcome to the Chatbot! Type 'exit' to end the conversation\")\n",
        "\n",
        "  while True:\n",
        "    prompt = input(\"You: \") # Prompt the user for input\n",
        "    if prompt.lower()=='exit':     # Exit the loop if the user types 'exit'\n",
        "      print(\"GoodBye!\")\n",
        "      break    #Exit the loop and end the program\n",
        "\n",
        "    # Generate a response using the model\n",
        "    response = model.generate_content(prompt)\n",
        "    # Format and display the response as Markdown\n",
        "    display(to_markdown(response.parts))"
      ]
    },
    {
      "cell_type": "code",
      "execution_count": null,
      "metadata": {
        "colab": {
          "base_uri": "https://localhost:8080/",
          "height": 1000
        },
        "id": "LxfobnjBR3YH",
        "outputId": "c29bc50d-baf8-454c-87c8-f234f6ed0231"
      },
      "outputs": [
        {
          "name": "stdout",
          "output_type": "stream",
          "text": [
            "models/gemini-1.0-pro\n",
            "models/gemini-1.0-pro-001\n",
            "models/gemini-1.0-pro-latest\n",
            "models/gemini-1.0-pro-vision-latest\n",
            "models/gemini-1.5-flash\n",
            "models/gemini-1.5-flash-001\n",
            "models/gemini-1.5-flash-latest\n",
            "models/gemini-1.5-pro\n",
            "models/gemini-1.5-pro-001\n",
            "models/gemini-1.5-pro-latest\n",
            "models/gemini-pro\n",
            "models/gemini-pro-vision\n",
            "Welcome to the Chatbot! Type 'exit' to end the conversation\n",
            "You: tell me about assembly language\n"
          ]
        },
        {
          "output_type": "display_data",
          "data": {
            "text/plain": [
              "<IPython.core.display.Markdown object>"
            ],
            "text/markdown": ">**What is Assembly Language?**\n>\n>Assembly language is a low*level programming language that provides a symbolic representation of machine instructions. It is one step above machine code (which is directly executable by the CPU) and one step below high*level programming languages (like Python or Java).\n>\n>**Advantages of Assembly Language:**\n>\n>* **Efficiency:** Assembly language programs can be highly optimized for specific hardware, resulting in faster execution speeds and smaller memory footprint.\n>* **Control:** Programmers have direct control over processor registers, memory addresses, and other hardware resources.\n>* **Hardware Interaction:** Assembly language allows engineers to interact with hardware components like I/O devices and peripherals directly.\n>* **Portability:** Compared to machine code, assembly language is somewhat portable across different hardware architectures with similar instruction sets.\n>\n>**Disadvantages of Assembly Language:**\n>\n>* **Complexity:** Assembly language is much more complex than high*level languages, requiring a deep understanding of the target processor's architecture.\n>* **Error*Prone:** Assembly language programs are prone to errors due to the low level of abstraction.\n>* **Maintenance:** Assembly code can be difficult to read, understand, and maintain, especially for large programs.\n>* **Lack of Modern Features:** Assembly language lacks many modern programming concepts such as object*oriented programming, automatic memory management, and exception handling.\n>\n>**Structure:**\n>\n>Assembly language programs consist of:\n>\n>* **Instructions:** Symbolic representations of machine instructions, such as \"MOV\" (move data) or \"ADD\" (addition).\n>* **Directives:** Commands that direct the assembler (a program that translates assembly code into machine code) to perform certain tasks, such as allocating memory or defining data structures.\n>* **Labels:** Symbolic names used to identify memory locations or instructions for referencing and branching.\n>\n>**Example:**\n>\n>```assembly\n>    MOV eax, 5 # Load 5 into the eax register\n>    MOV ebx, 10 # Load 10 into the ebx register\n>    ADD  eax, ebx # Add eax and ebx and store the result in eax\n>    PRINT eax # Print the value of eax\n>```\n>\n>**Applications:**\n>\n>Assembly language is primarily used in situations where efficiency and control are essential:\n>\n>* **Operating Systems:** The kernels of operating systems are often written in assembly language for performance and real*time capabilities.\n>* **Embedded Systems:** Tiny microcontrollers in devices like phones and appliances use assembly language for their resource*constrained nature.\n>* **Hardware Drivers:** Device drivers require low*level control over hardware and therefore often employ assembly language.\n>* **Performance*Critical Applications:** Scientific simulations and graphics rendering applications may use assembly language to enhance performance."
          },
          "metadata": {}
        },
        {
          "output_type": "stream",
          "name": "stdout",
          "text": [
            "You: exit\n",
            "GoodBye!\n"
          ]
        }
      ],
      "source": [
        "# Creating the chatbot\n",
        "create_chatbot()"
      ]
    }
  ],
  "metadata": {
    "accelerator": "GPU",
    "colab": {
      "gpuType": "T4",
      "provenance": []
    },
    "kernelspec": {
      "display_name": "Python 3",
      "name": "python3"
    },
    "language_info": {
      "name": "python"
    }
  },
  "nbformat": 4,
  "nbformat_minor": 0
}